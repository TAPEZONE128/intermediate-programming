{
  "nbformat": 4,
  "nbformat_minor": 0,
  "metadata": {
    "colab": {
      "provenance": [],
      "history_visible": true,
      "authorship_tag": "ABX9TyNw72IhExVReNXb4EpIUDPw",
      "include_colab_link": true
    },
    "kernelspec": {
      "name": "python3",
      "display_name": "Python 3"
    },
    "language_info": {
      "name": "python"
    }
  },
  "cells": [
    {
      "cell_type": "markdown",
      "metadata": {
        "id": "view-in-github",
        "colab_type": "text"
      },
      "source": [
        "<a href=\"https://colab.research.google.com/github/osiristape/Python-Basics/blob/main/Activity01.ipynb\" target=\"_parent\"><img src=\"https://colab.research.google.com/assets/colab-badge.svg\" alt=\"Open In Colab\"/></a>"
      ]
    },
    {
      "cell_type": "markdown",
      "source": [
        "Activity:\n",
        "\n",
        "1. Create an empty dictionary to store 10 Student names and test score and display its average.\n",
        "\n",
        "2. Do it your google colab notebook and save it on your github account"
      ],
      "metadata": {
        "id": "gwvVnUR50pe4"
      }
    },
    {
      "cell_type": "code",
      "execution_count": null,
      "metadata": {
        "colab": {
          "base_uri": "https://localhost:8080/"
        },
        "id": "p6XschMt0myM",
        "outputId": "64cf4fb1-41e2-4533-e655-eed7ab5ed334"
      },
      "outputs": [
        {
          "output_type": "stream",
          "name": "stdout",
          "text": [
            "{'Kimberly Beebe': 84, 'Michael Evans': 97, 'Christopher Burkhead': 80, 'Dennis Foxman': 67, 'Mark Robertson': 78, 'James Edwards': 80, 'Ruben Evans': 99, 'Tamar Quinto': 82, 'Geoffrey Lundeen': 61, 'Karen Weaver': 91}\n",
            "Overall Average: 81.9\n"
          ]
        }
      ],
      "source": [
        "import string\n",
        "import names\n",
        "import random\n",
        "\n",
        "random_names = [names.get_full_name() for i in range(10)]\n",
        "random_scores = [random.randint(50,100) for i in range(10)]\n",
        "average = sum(random_scores)/10\n",
        "\n",
        "random_names = random_scores = dict(zip(random_names, random_scores))\n",
        "print(random_names)\n",
        "\n",
        "print(\"Overall Average:\", average)\n"
      ]
    }
  ]
}
