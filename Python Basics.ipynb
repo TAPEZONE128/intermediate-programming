{
  "nbformat": 4,
  "nbformat_minor": 0,
  "metadata": {
    "colab": {
      "provenance": [],
      "toc_visible": true,
      "authorship_tag": "ABX9TyNS1oR3qWUtrecP9gfToo44",
      "include_colab_link": true
    },
    "kernelspec": {
      "name": "python3",
      "display_name": "Python 3"
    },
    "language_info": {
      "name": "python"
    }
  },
  "cells": [
    {
      "cell_type": "markdown",
      "metadata": {
        "id": "view-in-github",
        "colab_type": "text"
      },
      "source": [
        "<a href=\"https://colab.research.google.com/github/osiristape/Python-Basics/blob/main/Python%20Basics.ipynb\" target=\"_parent\"><img src=\"https://colab.research.google.com/assets/colab-badge.svg\" alt=\"Open In Colab\"/></a>"
      ]
    },
    {
      "cell_type": "markdown",
      "source": [
        "### **Python Basics**\n",
        "\n"
      ],
      "metadata": {
        "id": "2Yij9h44mlto"
      }
    },
    {
      "cell_type": "code",
      "source": [
        "a = 13\n",
        "b = 15\n",
        "c = 16\n",
        "\n",
        "print(a+b+c)"
      ],
      "metadata": {
        "colab": {
          "base_uri": "https://localhost:8080/"
        },
        "id": "M7WeOQNPmqzl",
        "outputId": "e7fcb59e-1ab4-44f9-c64a-7158b92ad66b"
      },
      "execution_count": 1,
      "outputs": [
        {
          "output_type": "stream",
          "name": "stdout",
          "text": [
            "44\n"
          ]
        }
      ]
    },
    {
      "cell_type": "code",
      "source": [
        "ba = 14\n",
        "print(ba)"
      ],
      "metadata": {
        "colab": {
          "base_uri": "https://localhost:8080/"
        },
        "id": "KBf4C3uGnZXl",
        "outputId": "7902b52e-ed1d-4bee-a46b-c341cd911dcd"
      },
      "execution_count": 3,
      "outputs": [
        {
          "output_type": "stream",
          "name": "stdout",
          "text": [
            "14\n"
          ]
        }
      ]
    },
    {
      "cell_type": "markdown",
      "source": [
        "Slicing"
      ],
      "metadata": {
        "id": "XEbRTQJcrxwP"
      }
    },
    {
      "cell_type": "code",
      "source": [
        "names = [\"Toper\", \"Maya\", \"Gagan\", \"Ryan\"]\n",
        "print(names[0:2])\n",
        "print(names[1:2:1])\n",
        "print(names[2:4])\n",
        "print(names[0])\n",
        "print(names[1])\n",
        "print(names[-1])\n",
        "print(names[2])\n",
        "print(names[-2])\n",
        "print(names[-3])\n",
        "print(names[-4])"
      ],
      "metadata": {
        "colab": {
          "base_uri": "https://localhost:8080/"
        },
        "id": "UrPIMBBMqF5M",
        "outputId": "bdc902d6-b4fc-4c9d-9128-df75446f0297"
      },
      "execution_count": 14,
      "outputs": [
        {
          "output_type": "stream",
          "name": "stdout",
          "text": [
            "['Toper', 'Maya']\n",
            "['Maya']\n",
            "['Gagan', 'Ryan']\n",
            "Toper\n",
            "Maya\n",
            "Ryan\n",
            "Gagan\n",
            "Gagan\n",
            "Maya\n",
            "Toper\n"
          ]
        }
      ]
    },
    {
      "cell_type": "markdown",
      "source": [
        "print(@desiredname[show:cut]\n",
        "\n",
        "print(names[1]) positive starts left [0, 1, 2, 3]\n",
        "\n",
        "print(names[-1]) negative starts right [-4, -3, -2, -1]\n",
        "\n",
        "start : end : step\n"
      ],
      "metadata": {
        "id": "8o4tUqglt0_4"
      }
    },
    {
      "cell_type": "markdown",
      "source": [
        "#dict"
      ],
      "metadata": {
        "id": "PVB8_IGDvtY8"
      }
    },
    {
      "cell_type": "code",
      "source": [
        "d = dict(a=1, b=2, c=3)\n",
        "print(d)\n",
        "print(d['a'])\n",
        "print(d['b'])\n",
        "print(d['c'])\n",
        "\n",
        "d = dict([('a', 1), ('b', 2), ('c', 3)])\n",
        "print(d)\n",
        "\n",
        "d = dict(zip(['a', 'b', 'c'], [1, 2, 3]))\n",
        "print(d)"
      ],
      "metadata": {
        "colab": {
          "base_uri": "https://localhost:8080/"
        },
        "id": "ulJGUzt2vsl9",
        "outputId": "2c1414ad-064c-4e37-d1ce-2c164880aed4"
      },
      "execution_count": 17,
      "outputs": [
        {
          "output_type": "stream",
          "name": "stdout",
          "text": [
            "{'a': 1, 'b': 2, 'c': 3}\n",
            "1\n",
            "2\n",
            "3\n",
            "{'a': 1, 'b': 2, 'c': 3}\n",
            "{'a': 1, 'b': 2, 'c': 3}\n"
          ]
        }
      ]
    },
    {
      "cell_type": "markdown",
      "source": [
        "format\n",
        "\n",
        "dict - same concept of array\n",
        "\n",
        "d = dict(values[index])\n",
        "\n",
        "if d from dict called out = whole array\n",
        "\n",
        "if specific print(d[\"a\"]) = first index\n",
        "\n",
        "note: it depends on the indicated value, it will not begin always in zero\n"
      ],
      "metadata": {
        "id": "hJ1Hh2CiwMqf"
      }
    },
    {
      "cell_type": "code",
      "source": [
        "import string\n",
        "print(string.ascii_lowercase)\n",
        "print(string.ascii_uppercase)\n",
        "\n",
        "#loop\n",
        "for letter in string.ascii_lowercase:\n",
        "  print(\"space\")\n",
        "  print(letter)\n"
      ],
      "metadata": {
        "colab": {
          "base_uri": "https://localhost:8080/"
        },
        "id": "J0sHTrDtxgpb",
        "outputId": "f1c007dc-0527-4fd7-89c7-aff886a391b0"
      },
      "execution_count": 32,
      "outputs": [
        {
          "output_type": "stream",
          "name": "stdout",
          "text": [
            "abcdefghijklmnopqrstuvwxyz\n",
            "ABCDEFGHIJKLMNOPQRSTUVWXYZ\n",
            "space\n",
            "a\n",
            "space\n",
            "b\n",
            "space\n",
            "c\n",
            "space\n",
            "d\n",
            "space\n",
            "e\n",
            "space\n",
            "f\n",
            "space\n",
            "g\n",
            "space\n",
            "h\n",
            "space\n",
            "i\n",
            "space\n",
            "j\n",
            "space\n",
            "k\n",
            "space\n",
            "l\n",
            "space\n",
            "m\n",
            "space\n",
            "n\n",
            "space\n",
            "o\n",
            "space\n",
            "p\n",
            "space\n",
            "q\n",
            "space\n",
            "r\n",
            "space\n",
            "s\n",
            "space\n",
            "t\n",
            "space\n",
            "u\n",
            "space\n",
            "v\n",
            "space\n",
            "w\n",
            "space\n",
            "x\n",
            "space\n",
            "y\n",
            "space\n",
            "z\n"
          ]
        }
      ]
    },
    {
      "cell_type": "markdown",
      "source": [
        "import string = arrays of string"
      ],
      "metadata": {
        "id": "BZNSOH1bywni"
      }
    }
  ]
}
